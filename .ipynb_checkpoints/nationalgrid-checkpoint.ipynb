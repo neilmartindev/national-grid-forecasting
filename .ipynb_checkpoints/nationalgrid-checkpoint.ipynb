{
 "cells": [
  {
   "cell_type": "markdown",
   "id": "6d9bead9-19c0-4e58-9ac0-aa634b5477af",
   "metadata": {},
   "source": [
    "### Darts Forecasting with National Grid DSO Data 2009-2024"
   ]
  },
  {
   "cell_type": "code",
   "execution_count": 1,
   "id": "e1c050ac-4ef0-4f5a-9c5e-6491a96c5677",
   "metadata": {},
   "outputs": [],
   "source": [
    "import pandas as pd\n",
    "import numpy as np\n",
    "import matplotlib.pyplot as plt\n",
    "\n",
    "from darts import TimeSeries"
   ]
  },
  {
   "cell_type": "code",
   "execution_count": 2,
   "id": "91bcdabd-68df-48c4-9bdd-70e93f291224",
   "metadata": {},
   "outputs": [],
   "source": [
    "df = pd.read_csv(\"historic_demand_2009_2024_noNaN.csv\")"
   ]
  },
  {
   "cell_type": "code",
   "execution_count": 3,
   "id": "32f2585d-46f2-4682-bf2b-9148d82ba003",
   "metadata": {},
   "outputs": [
    {
     "name": "stdout",
     "output_type": "stream",
     "text": [
      "<class 'pandas.core.frame.DataFrame'>\n",
      "RangeIndex: 270112 entries, 0 to 270111\n",
      "Data columns (total 19 columns):\n",
      " #   Column                     Non-Null Count   Dtype \n",
      "---  ------                     --------------   ----- \n",
      " 0   settlement_date            270112 non-null  object\n",
      " 1   settlement_period          270112 non-null  int64 \n",
      " 2   period_hour                270112 non-null  object\n",
      " 3   nd                         270112 non-null  int64 \n",
      " 4   tsd                        270112 non-null  int64 \n",
      " 5   england_wales_demand       270112 non-null  int64 \n",
      " 6   embedded_wind_generation   270112 non-null  int64 \n",
      " 7   embedded_wind_capacity     270112 non-null  int64 \n",
      " 8   embedded_solar_generation  270112 non-null  int64 \n",
      " 9   embedded_solar_capacity    270112 non-null  int64 \n",
      " 10  non_bm_stor                270112 non-null  int64 \n",
      " 11  pump_storage_pumping       270112 non-null  int64 \n",
      " 12  ifa_flow                   270112 non-null  int64 \n",
      " 13  ifa2_flow                  270112 non-null  int64 \n",
      " 14  britned_flow               270112 non-null  int64 \n",
      " 15  moyle_flow                 270112 non-null  int64 \n",
      " 16  east_west_flow             270112 non-null  int64 \n",
      " 17  nemo_flow                  270112 non-null  int64 \n",
      " 18  is_holiday                 270112 non-null  int64 \n",
      "dtypes: int64(17), object(2)\n",
      "memory usage: 39.2+ MB\n"
     ]
    }
   ],
   "source": [
    "df.info()"
   ]
  },
  {
   "cell_type": "code",
   "execution_count": 4,
   "id": "95172be7-1708-4853-a506-e7f99136de98",
   "metadata": {},
   "outputs": [
    {
     "name": "stdout",
     "output_type": "stream",
     "text": [
      "<class 'pandas.core.frame.DataFrame'>\n",
      "DatetimeIndex: 270112 entries, 2009-01-01 00:00:00 to 2024-06-13 23:30:00\n",
      "Data columns (total 18 columns):\n",
      " #   Column                     Non-Null Count   Dtype \n",
      "---  ------                     --------------   ----- \n",
      " 0   settlement_period          270112 non-null  int64 \n",
      " 1   period_hour                270112 non-null  object\n",
      " 2   nd                         270112 non-null  int64 \n",
      " 3   tsd                        270112 non-null  int64 \n",
      " 4   england_wales_demand       270112 non-null  int64 \n",
      " 5   embedded_wind_generation   270112 non-null  int64 \n",
      " 6   embedded_wind_capacity     270112 non-null  int64 \n",
      " 7   embedded_solar_generation  270112 non-null  int64 \n",
      " 8   embedded_solar_capacity    270112 non-null  int64 \n",
      " 9   non_bm_stor                270112 non-null  int64 \n",
      " 10  pump_storage_pumping       270112 non-null  int64 \n",
      " 11  ifa_flow                   270112 non-null  int64 \n",
      " 12  ifa2_flow                  270112 non-null  int64 \n",
      " 13  britned_flow               270112 non-null  int64 \n",
      " 14  moyle_flow                 270112 non-null  int64 \n",
      " 15  east_west_flow             270112 non-null  int64 \n",
      " 16  nemo_flow                  270112 non-null  int64 \n",
      " 17  is_holiday                 270112 non-null  int64 \n",
      "dtypes: int64(17), object(1)\n",
      "memory usage: 39.2+ MB\n",
      "None\n"
     ]
    }
   ],
   "source": [
    "df['settlement_date'] = pd.to_datetime(df['settlement_date'])\n",
    "\n",
    "# Setting index\n",
    "df.set_index('settlement_date', inplace=True)\n",
    "\n",
    "print(df.info())"
   ]
  },
  {
   "cell_type": "code",
   "execution_count": 5,
   "id": "943ce63e-7be1-40a4-bd0a-59d1bcdb20a3",
   "metadata": {},
   "outputs": [],
   "source": [
    "ng_df = df[[\"nd\"]]"
   ]
  },
  {
   "cell_type": "code",
   "execution_count": 6,
   "id": "7407023b-5cd3-4a84-a1e5-a2d700b18a0e",
   "metadata": {},
   "outputs": [
    {
     "name": "stdout",
     "output_type": "stream",
     "text": [
      "<class 'pandas.core.frame.DataFrame'>\n",
      "DatetimeIndex: 270112 entries, 2009-01-01 00:00:00 to 2024-06-13 23:30:00\n",
      "Data columns (total 1 columns):\n",
      " #   Column  Non-Null Count   Dtype\n",
      "---  ------  --------------   -----\n",
      " 0   nd      270112 non-null  int64\n",
      "dtypes: int64(1)\n",
      "memory usage: 4.1 MB\n"
     ]
    }
   ],
   "source": [
    "ng_df.info()"
   ]
  },
  {
   "cell_type": "code",
   "execution_count": 7,
   "id": "a010dd2e-749b-40b8-b279-ddf0c6aad14e",
   "metadata": {},
   "outputs": [],
   "source": [
    "series = TimeSeries.from_dataframe(ng_df, value_cols='nd', fill_missing_dates=True, freq=\"30min\")"
   ]
  },
  {
   "cell_type": "code",
   "execution_count": 8,
   "id": "da1ea812-952d-44fc-8b0d-6970755a71db",
   "metadata": {},
   "outputs": [
    {
     "name": "stdout",
     "output_type": "stream",
     "text": [
      "<TimeSeries (DataArray) (settlement_date: 270864, component: 1, sample: 1)> Size: 2MB\n",
      "array([[[37910.]],\n",
      "\n",
      "       [[38047.]],\n",
      "\n",
      "       [[37380.]],\n",
      "\n",
      "       ...,\n",
      "\n",
      "       [[23129.]],\n",
      "\n",
      "       [[21649.]],\n",
      "\n",
      "       [[20715.]]])\n",
      "Coordinates:\n",
      "  * settlement_date  (settlement_date) datetime64[ns] 2MB 2009-01-01 ... 2024...\n",
      "  * component        (component) object 8B 'nd'\n",
      "Dimensions without coordinates: sample\n",
      "Attributes:\n",
      "    static_covariates:  None\n",
      "    hierarchy:          None\n"
     ]
    }
   ],
   "source": [
    "print(series)"
   ]
  },
  {
   "cell_type": "code",
   "execution_count": 9,
   "id": "50fd2475-202b-4c96-adea-fcefc02269d3",
   "metadata": {},
   "outputs": [
    {
     "name": "stdout",
     "output_type": "stream",
     "text": [
      "The time series frequency is: 30min\n"
     ]
    }
   ],
   "source": [
    "split_date = pd.Timestamp('2021-01-01')  # Adjust this date as needed\n",
    "train, val = series.split_before(split_date)\n",
    "\n",
    "print(\"The time series frequency is:\", series.freq_str)"
   ]
  },
  {
   "cell_type": "code",
   "execution_count": 10,
   "id": "bd4379af-c118-49a2-a7a3-4c8e88149a96",
   "metadata": {},
   "outputs": [
    {
     "data": {
      "text/plain": [
       "Text(0.5, 1.0, 'UK National Grid 2009-2024')"
      ]
     },
     "execution_count": 10,
     "metadata": {},
     "output_type": "execute_result"
    },
    {
     "data": {
      "image/png": "[encoded data removed]",
      "text/plain": [
       "<Figure size 640x480 with 1 Axes>"
      ]
     },
     "metadata": {},
     "output_type": "display_data"
    }
   ],
   "source": [
    "series.plot(label=\"Electricity\", color='blue')\n",
    "plt.xlabel('Year')  \n",
    "plt.ylabel('Megawatts (MW)')\n",
    "plt.title(\"UK National Grid 2009-2024\")"
   ]
  },
  {
   "cell_type": "code",
   "execution_count": null,
   "id": "ce39e1cb-b165-4249-a37c-1b3120cb82d0",
   "metadata": {},
   "outputs": [],
   "source": [
    "from darts.utils.statistics import seasonal_decompose\n",
    "\n",
    "decomposition = seasonal_decompose(series)\n",
    "decomposition.plot()\n",
    "plt.show()"
   ]
  },
  {
   "cell_type": "code",
   "execution_count": null,
   "id": "9a03d1f2-7385-4d48-a334-3122320f3e53",
   "metadata": {},
   "outputs": [],
   "source": []
  }
 ],
 "metadata": {
  "kernelspec": {
   "display_name": "darts",
   "language": "python",
   "name": "darts"
  },
  "language_info": {
   "codemirror_mode": {
    "name": "ipython",
    "version": 3
   },
   "file_extension": ".py",
   "mimetype": "text/x-python",
   "name": "python",
   "nbconvert_exporter": "python",
   "pygments_lexer": "ipython3",
   "version": "3.12.5"
  }
 },
 "nbformat": 4,
 "nbformat_minor": 5
}
